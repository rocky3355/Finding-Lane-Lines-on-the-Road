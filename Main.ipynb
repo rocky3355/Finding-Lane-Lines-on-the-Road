{
 "cells": [
  {
   "cell_type": "code",
   "execution_count": null,
   "metadata": {
    "collapsed": false
   },
   "outputs": [
    {
     "name": "stdout",
     "output_type": "stream",
     "text": [
      "[MoviePy] >>>> Building video test_with_lines.mp4\n"
     ]
    },
    {
     "name": "stdout",
     "output_type": "stream",
     "text": [
      "[MoviePy] Writing video test_with_lines.mp4\n"
     ]
    },
    {
     "name": "stderr",
     "output_type": "stream",
     "text": [
      "\r  0%|          | 0/251 [00:00<?, ?it/s]"
     ]
    },
    {
     "name": "stderr",
     "output_type": "stream",
     "text": [
      "\r  1%|          | 2/251 [00:00<00:14, 17.10it/s]"
     ]
    },
    {
     "name": "stderr",
     "output_type": "stream",
     "text": [
      "\r  2%|▏         | 4/251 [00:00<00:14, 16.75it/s]"
     ]
    },
    {
     "name": "stderr",
     "output_type": "stream",
     "text": [
      "\r  2%|▏         | 6/251 [00:00<00:14, 17.35it/s]"
     ]
    },
    {
     "name": "stderr",
     "output_type": "stream",
     "text": [
      "\r  3%|▎         | 8/251 [00:00<00:13, 17.87it/s]"
     ]
    },
    {
     "name": "stderr",
     "output_type": "stream",
     "text": [
      "\r  4%|▍         | 11/251 [00:00<00:13, 18.44it/s]"
     ]
    },
    {
     "name": "stderr",
     "output_type": "stream",
     "text": [
      "\r  5%|▌         | 13/251 [00:00<00:12, 18.61it/s]"
     ]
    },
    {
     "name": "stderr",
     "output_type": "stream",
     "text": [
      "\r  6%|▋         | 16/251 [00:00<00:12, 18.83it/s]"
     ]
    },
    {
     "name": "stderr",
     "output_type": "stream",
     "text": [
      "\r  7%|▋         | 18/251 [00:00<00:12, 18.86it/s]"
     ]
    },
    {
     "name": "stderr",
     "output_type": "stream",
     "text": [
      "\r  8%|▊         | 21/251 [00:01<00:12, 19.02it/s]"
     ]
    },
    {
     "name": "stderr",
     "output_type": "stream",
     "text": [
      "\r  9%|▉         | 23/251 [00:01<00:11, 19.03it/s]"
     ]
    },
    {
     "name": "stderr",
     "output_type": "stream",
     "text": [
      "\r 10%|▉         | 25/251 [00:01<00:11, 19.05it/s]"
     ]
    },
    {
     "name": "stderr",
     "output_type": "stream",
     "text": [
      "\r 11%|█         | 27/251 [00:01<00:11, 19.07it/s]"
     ]
    },
    {
     "name": "stderr",
     "output_type": "stream",
     "text": [
      "\r 12%|█▏        | 29/251 [00:01<00:11, 19.10it/s]"
     ]
    },
    {
     "name": "stderr",
     "output_type": "stream",
     "text": [
      "\r 12%|█▏        | 31/251 [00:01<00:11, 19.13it/s]"
     ]
    },
    {
     "name": "stderr",
     "output_type": "stream",
     "text": [
      "\r 14%|█▎        | 34/251 [00:01<00:11, 19.20it/s]"
     ]
    },
    {
     "name": "stderr",
     "output_type": "stream",
     "text": [
      "\r 14%|█▍        | 36/251 [00:01<00:11, 19.20it/s]"
     ]
    },
    {
     "name": "stderr",
     "output_type": "stream",
     "text": [
      "\r 15%|█▌        | 38/251 [00:01<00:11, 19.20it/s]"
     ]
    },
    {
     "name": "stderr",
     "output_type": "stream",
     "text": [
      "\r 16%|█▌        | 40/251 [00:02<00:10, 19.22it/s]"
     ]
    },
    {
     "name": "stderr",
     "output_type": "stream",
     "text": [
      "\r 17%|█▋        | 42/251 [00:02<00:10, 19.25it/s]"
     ]
    },
    {
     "name": "stderr",
     "output_type": "stream",
     "text": [
      "\r 18%|█▊        | 44/251 [00:02<00:10, 19.23it/s]"
     ]
    },
    {
     "name": "stderr",
     "output_type": "stream",
     "text": [
      "\r 18%|█▊        | 46/251 [00:02<00:10, 19.23it/s]"
     ]
    },
    {
     "name": "stderr",
     "output_type": "stream",
     "text": [
      "\r 19%|█▉        | 48/251 [00:02<00:10, 19.21it/s]"
     ]
    },
    {
     "name": "stderr",
     "output_type": "stream",
     "text": [
      "\r 20%|█▉        | 50/251 [00:02<00:10, 19.18it/s]"
     ]
    },
    {
     "name": "stderr",
     "output_type": "stream",
     "text": [
      "\r 21%|██        | 52/251 [00:02<00:10, 19.17it/s]"
     ]
    },
    {
     "name": "stderr",
     "output_type": "stream",
     "text": [
      "\r 22%|██▏       | 54/251 [00:02<00:10, 19.17it/s]"
     ]
    },
    {
     "name": "stderr",
     "output_type": "stream",
     "text": [
      "\r 22%|██▏       | 56/251 [00:02<00:10, 19.15it/s]"
     ]
    },
    {
     "name": "stderr",
     "output_type": "stream",
     "text": [
      "\r 23%|██▎       | 58/251 [00:03<00:10, 19.12it/s]"
     ]
    },
    {
     "name": "stderr",
     "output_type": "stream",
     "text": [
      "\r 24%|██▍       | 60/251 [00:03<00:10, 19.09it/s]"
     ]
    },
    {
     "name": "stderr",
     "output_type": "stream",
     "text": [
      "\r 25%|██▍       | 62/251 [00:03<00:09, 19.06it/s]"
     ]
    },
    {
     "name": "stderr",
     "output_type": "stream",
     "text": [
      "\r 25%|██▌       | 64/251 [00:03<00:09, 19.01it/s]"
     ]
    },
    {
     "name": "stderr",
     "output_type": "stream",
     "text": [
      "\r 26%|██▋       | 66/251 [00:03<00:09, 18.98it/s]"
     ]
    },
    {
     "name": "stderr",
     "output_type": "stream",
     "text": [
      "\r 27%|██▋       | 68/251 [00:03<00:09, 18.95it/s]"
     ]
    },
    {
     "name": "stderr",
     "output_type": "stream",
     "text": [
      "\r 28%|██▊       | 70/251 [00:03<00:09, 18.92it/s]"
     ]
    },
    {
     "name": "stderr",
     "output_type": "stream",
     "text": [
      "\r 29%|██▊       | 72/251 [00:03<00:09, 18.87it/s]"
     ]
    },
    {
     "name": "stderr",
     "output_type": "stream",
     "text": [
      "\r 29%|██▉       | 74/251 [00:03<00:09, 18.86it/s]"
     ]
    },
    {
     "name": "stderr",
     "output_type": "stream",
     "text": [
      "\r 30%|███       | 76/251 [00:04<00:09, 18.85it/s]"
     ]
    },
    {
     "name": "stderr",
     "output_type": "stream",
     "text": [
      "\r 31%|███       | 78/251 [00:04<00:09, 18.84it/s]"
     ]
    },
    {
     "name": "stderr",
     "output_type": "stream",
     "text": [
      "\r 32%|███▏      | 80/251 [00:04<00:09, 18.86it/s]"
     ]
    },
    {
     "name": "stderr",
     "output_type": "stream",
     "text": [
      "\r 33%|███▎      | 82/251 [00:04<00:08, 18.81it/s]"
     ]
    },
    {
     "name": "stderr",
     "output_type": "stream",
     "text": [
      "\r 33%|███▎      | 84/251 [00:04<00:08, 18.78it/s]"
     ]
    },
    {
     "name": "stderr",
     "output_type": "stream",
     "text": [
      "\r 34%|███▍      | 86/251 [00:04<00:08, 18.73it/s]"
     ]
    },
    {
     "name": "stderr",
     "output_type": "stream",
     "text": [
      "\r 35%|███▌      | 88/251 [00:04<00:08, 18.74it/s]"
     ]
    },
    {
     "name": "stderr",
     "output_type": "stream",
     "text": [
      "\r 36%|███▌      | 90/251 [00:04<00:08, 18.68it/s]"
     ]
    },
    {
     "name": "stderr",
     "output_type": "stream",
     "text": [
      "\r 37%|███▋      | 92/251 [00:04<00:08, 18.66it/s]"
     ]
    },
    {
     "name": "stderr",
     "output_type": "stream",
     "text": [
      "\r 37%|███▋      | 94/251 [00:05<00:08, 18.67it/s]"
     ]
    },
    {
     "name": "stderr",
     "output_type": "stream",
     "text": [
      "\r 38%|███▊      | 96/251 [00:05<00:08, 18.65it/s]"
     ]
    },
    {
     "name": "stderr",
     "output_type": "stream",
     "text": [
      "\r 39%|███▉      | 98/251 [00:05<00:08, 18.67it/s]"
     ]
    },
    {
     "name": "stderr",
     "output_type": "stream",
     "text": [
      "\r 40%|███▉      | 100/251 [00:05<00:08, 18.66it/s]"
     ]
    },
    {
     "name": "stderr",
     "output_type": "stream",
     "text": [
      "\r 41%|████      | 102/251 [00:05<00:07, 18.66it/s]"
     ]
    },
    {
     "name": "stderr",
     "output_type": "stream",
     "text": [
      "\r 41%|████▏     | 104/251 [00:05<00:07, 18.64it/s]"
     ]
    },
    {
     "name": "stderr",
     "output_type": "stream",
     "text": [
      "\r 42%|████▏     | 106/251 [00:05<00:07, 18.60it/s]"
     ]
    },
    {
     "name": "stderr",
     "output_type": "stream",
     "text": [
      "\r 43%|████▎     | 108/251 [00:05<00:07, 18.59it/s]"
     ]
    },
    {
     "name": "stderr",
     "output_type": "stream",
     "text": [
      "\r 44%|████▍     | 110/251 [00:05<00:07, 18.58it/s]"
     ]
    },
    {
     "name": "stderr",
     "output_type": "stream",
     "text": [
      "\r 45%|████▍     | 112/251 [00:06<00:07, 18.57it/s]"
     ]
    },
    {
     "name": "stderr",
     "output_type": "stream",
     "text": [
      "\r 45%|████▌     | 114/251 [00:06<00:07, 18.53it/s]"
     ]
    },
    {
     "name": "stderr",
     "output_type": "stream",
     "text": [
      "\r 46%|████▌     | 116/251 [00:06<00:07, 18.51it/s]"
     ]
    },
    {
     "name": "stderr",
     "output_type": "stream",
     "text": [
      "\r 47%|████▋     | 118/251 [00:06<00:07, 18.47it/s]"
     ]
    },
    {
     "name": "stderr",
     "output_type": "stream",
     "text": [
      "\r 48%|████▊     | 120/251 [00:06<00:07, 18.33it/s]"
     ]
    },
    {
     "name": "stderr",
     "output_type": "stream",
     "text": [
      "\r 49%|████▊     | 122/251 [00:06<00:07, 18.28it/s]"
     ]
    },
    {
     "name": "stderr",
     "output_type": "stream",
     "text": [
      "\r 49%|████▉     | 124/251 [00:06<00:06, 18.25it/s]"
     ]
    },
    {
     "name": "stderr",
     "output_type": "stream",
     "text": [
      "\r 50%|█████     | 126/251 [00:06<00:06, 18.20it/s]"
     ]
    },
    {
     "name": "stderr",
     "output_type": "stream",
     "text": [
      "\r 51%|█████     | 128/251 [00:07<00:06, 18.11it/s]"
     ]
    },
    {
     "name": "stderr",
     "output_type": "stream",
     "text": [
      "\r 52%|█████▏    | 130/251 [00:07<00:06, 18.09it/s]"
     ]
    },
    {
     "name": "stderr",
     "output_type": "stream",
     "text": [
      "\r 53%|█████▎    | 132/251 [00:07<00:06, 18.08it/s]"
     ]
    },
    {
     "name": "stderr",
     "output_type": "stream",
     "text": [
      "\r 53%|█████▎    | 134/251 [00:07<00:06, 18.06it/s]"
     ]
    },
    {
     "name": "stderr",
     "output_type": "stream",
     "text": [
      "\r 54%|█████▍    | 136/251 [00:07<00:06, 18.06it/s]"
     ]
    },
    {
     "name": "stderr",
     "output_type": "stream",
     "text": [
      "\r 55%|█████▍    | 138/251 [00:07<00:06, 18.04it/s]"
     ]
    },
    {
     "name": "stderr",
     "output_type": "stream",
     "text": [
      "\r 56%|█████▌    | 140/251 [00:07<00:06, 18.02it/s]"
     ]
    },
    {
     "name": "stderr",
     "output_type": "stream",
     "text": [
      "\r 57%|█████▋    | 142/251 [00:07<00:06, 18.02it/s]"
     ]
    },
    {
     "name": "stderr",
     "output_type": "stream",
     "text": [
      "\r 57%|█████▋    | 144/251 [00:07<00:05, 18.02it/s]"
     ]
    },
    {
     "name": "stderr",
     "output_type": "stream",
     "text": [
      "\r 58%|█████▊    | 146/251 [00:08<00:05, 18.01it/s]"
     ]
    },
    {
     "name": "stderr",
     "output_type": "stream",
     "text": [
      "\r 59%|█████▉    | 148/251 [00:08<00:05, 17.97it/s]"
     ]
    },
    {
     "name": "stderr",
     "output_type": "stream",
     "text": [
      "\r 60%|█████▉    | 150/251 [00:08<00:05, 17.98it/s]"
     ]
    },
    {
     "name": "stderr",
     "output_type": "stream",
     "text": [
      "\r 61%|██████    | 152/251 [00:08<00:05, 17.99it/s]"
     ]
    },
    {
     "name": "stderr",
     "output_type": "stream",
     "text": [
      "\r 61%|██████▏   | 154/251 [00:08<00:05, 17.98it/s]"
     ]
    },
    {
     "name": "stderr",
     "output_type": "stream",
     "text": [
      "\r 62%|██████▏   | 156/251 [00:08<00:05, 17.99it/s]"
     ]
    },
    {
     "name": "stderr",
     "output_type": "stream",
     "text": [
      "\r 63%|██████▎   | 158/251 [00:08<00:05, 17.99it/s]"
     ]
    },
    {
     "name": "stderr",
     "output_type": "stream",
     "text": [
      "\r 64%|██████▎   | 160/251 [00:08<00:05, 18.00it/s]"
     ]
    },
    {
     "name": "stderr",
     "output_type": "stream",
     "text": [
      "\r 65%|██████▍   | 162/251 [00:08<00:04, 18.01it/s]"
     ]
    },
    {
     "name": "stderr",
     "output_type": "stream",
     "text": [
      "\r 65%|██████▌   | 164/251 [00:09<00:04, 18.00it/s]"
     ]
    },
    {
     "name": "stderr",
     "output_type": "stream",
     "text": [
      "\r 66%|██████▌   | 166/251 [00:09<00:04, 17.97it/s]"
     ]
    },
    {
     "name": "stderr",
     "output_type": "stream",
     "text": [
      "\r 67%|██████▋   | 168/251 [00:09<00:04, 17.96it/s]"
     ]
    },
    {
     "name": "stderr",
     "output_type": "stream",
     "text": [
      "\r 68%|██████▊   | 170/251 [00:09<00:04, 17.90it/s]"
     ]
    },
    {
     "name": "stderr",
     "output_type": "stream",
     "text": [
      "\r 69%|██████▊   | 172/251 [00:09<00:04, 17.84it/s]"
     ]
    },
    {
     "name": "stderr",
     "output_type": "stream",
     "text": [
      "\r 69%|██████▉   | 174/251 [00:09<00:04, 17.82it/s]"
     ]
    },
    {
     "name": "stderr",
     "output_type": "stream",
     "text": [
      "\r 70%|███████   | 176/251 [00:09<00:04, 17.77it/s]"
     ]
    },
    {
     "name": "stderr",
     "output_type": "stream",
     "text": [
      "\r 71%|███████   | 178/251 [00:10<00:04, 17.71it/s]"
     ]
    },
    {
     "name": "stderr",
     "output_type": "stream",
     "text": [
      "\r 72%|███████▏  | 180/251 [00:10<00:04, 17.61it/s]"
     ]
    },
    {
     "name": "stderr",
     "output_type": "stream",
     "text": [
      "\r 73%|███████▎  | 182/251 [00:10<00:03, 17.56it/s]"
     ]
    },
    {
     "name": "stderr",
     "output_type": "stream",
     "text": [
      "\r 73%|███████▎  | 184/251 [00:10<00:03, 17.53it/s]"
     ]
    },
    {
     "name": "stderr",
     "output_type": "stream",
     "text": [
      "\r 74%|███████▍  | 186/251 [00:10<00:03, 17.50it/s]"
     ]
    },
    {
     "name": "stderr",
     "output_type": "stream",
     "text": [
      "\r 75%|███████▍  | 188/251 [00:10<00:03, 17.49it/s]"
     ]
    },
    {
     "name": "stderr",
     "output_type": "stream",
     "text": [
      "\r 76%|███████▌  | 190/251 [00:10<00:03, 17.47it/s]"
     ]
    },
    {
     "name": "stderr",
     "output_type": "stream",
     "text": [
      "\r 76%|███████▋  | 192/251 [00:11<00:03, 17.44it/s]"
     ]
    },
    {
     "name": "stderr",
     "output_type": "stream",
     "text": [
      "\r 77%|███████▋  | 194/251 [00:11<00:03, 17.45it/s]"
     ]
    },
    {
     "name": "stderr",
     "output_type": "stream",
     "text": [
      "\r 78%|███████▊  | 196/251 [00:11<00:03, 17.45it/s]"
     ]
    },
    {
     "name": "stderr",
     "output_type": "stream",
     "text": [
      "\r 79%|███████▉  | 198/251 [00:11<00:03, 17.44it/s]"
     ]
    },
    {
     "name": "stderr",
     "output_type": "stream",
     "text": [
      "\r 80%|███████▉  | 200/251 [00:11<00:02, 17.44it/s]"
     ]
    },
    {
     "name": "stderr",
     "output_type": "stream",
     "text": [
      "\r 80%|████████  | 202/251 [00:11<00:02, 17.43it/s]"
     ]
    },
    {
     "name": "stderr",
     "output_type": "stream",
     "text": [
      "\r 81%|████████▏ | 204/251 [00:11<00:02, 17.43it/s]"
     ]
    },
    {
     "name": "stderr",
     "output_type": "stream",
     "text": [
      "\r 82%|████████▏ | 206/251 [00:11<00:02, 17.43it/s]"
     ]
    },
    {
     "name": "stderr",
     "output_type": "stream",
     "text": [
      "\r 83%|████████▎ | 208/251 [00:11<00:02, 17.42it/s]"
     ]
    },
    {
     "name": "stderr",
     "output_type": "stream",
     "text": [
      "\r 84%|████████▎ | 210/251 [00:12<00:02, 17.41it/s]"
     ]
    },
    {
     "name": "stderr",
     "output_type": "stream",
     "text": [
      "\r 84%|████████▍ | 212/251 [00:12<00:02, 17.37it/s]"
     ]
    },
    {
     "name": "stderr",
     "output_type": "stream",
     "text": [
      "\r 85%|████████▌ | 214/251 [00:12<00:02, 17.36it/s]"
     ]
    },
    {
     "name": "stderr",
     "output_type": "stream",
     "text": [
      "\r 86%|████████▌ | 216/251 [00:12<00:02, 17.34it/s]"
     ]
    },
    {
     "name": "stderr",
     "output_type": "stream",
     "text": [
      "\r 87%|████████▋ | 218/251 [00:12<00:01, 17.29it/s]"
     ]
    },
    {
     "name": "stderr",
     "output_type": "stream",
     "text": [
      "\r 88%|████████▊ | 220/251 [00:12<00:01, 17.29it/s]"
     ]
    },
    {
     "name": "stderr",
     "output_type": "stream",
     "text": [
      "\r 88%|████████▊ | 222/251 [00:12<00:01, 17.28it/s]"
     ]
    },
    {
     "name": "stderr",
     "output_type": "stream",
     "text": [
      "\r 89%|████████▉ | 224/251 [00:12<00:01, 17.29it/s]"
     ]
    },
    {
     "name": "stderr",
     "output_type": "stream",
     "text": [
      "\r 90%|█████████ | 226/251 [00:13<00:01, 17.30it/s]"
     ]
    },
    {
     "name": "stderr",
     "output_type": "stream",
     "text": [
      "\r 91%|█████████ | 228/251 [00:13<00:01, 17.30it/s]"
     ]
    },
    {
     "name": "stderr",
     "output_type": "stream",
     "text": [
      "\r 92%|█████████▏| 230/251 [00:13<00:01, 17.29it/s]"
     ]
    },
    {
     "name": "stderr",
     "output_type": "stream",
     "text": [
      "\r 92%|█████████▏| 232/251 [00:13<00:01, 17.28it/s]"
     ]
    },
    {
     "name": "stderr",
     "output_type": "stream",
     "text": [
      "\r 93%|█████████▎| 234/251 [00:13<00:00, 17.28it/s]"
     ]
    },
    {
     "name": "stderr",
     "output_type": "stream",
     "text": [
      "\r 94%|█████████▍| 236/251 [00:13<00:00, 17.28it/s]"
     ]
    },
    {
     "name": "stderr",
     "output_type": "stream",
     "text": [
      "\r 95%|█████████▍| 238/251 [00:13<00:00, 17.28it/s]"
     ]
    },
    {
     "name": "stderr",
     "output_type": "stream",
     "text": [
      "\r 96%|█████████▌| 240/251 [00:13<00:00, 17.27it/s]"
     ]
    },
    {
     "name": "stderr",
     "output_type": "stream",
     "text": [
      "\r 96%|█████████▋| 242/251 [00:14<00:00, 17.28it/s]"
     ]
    },
    {
     "name": "stderr",
     "output_type": "stream",
     "text": [
      "\r 97%|█████████▋| 244/251 [00:14<00:00, 17.27it/s]"
     ]
    },
    {
     "name": "stderr",
     "output_type": "stream",
     "text": [
      "\r 98%|█████████▊| 246/251 [00:14<00:00, 17.28it/s]"
     ]
    },
    {
     "name": "stderr",
     "output_type": "stream",
     "text": [
      "\r 99%|█████████▉| 248/251 [00:14<00:00, 17.29it/s]"
     ]
    },
    {
     "name": "stderr",
     "output_type": "stream",
     "text": [
      "\r100%|██████████| 251/251 [00:14<00:00, 17.32it/s]"
     ]
    },
    {
     "name": "stderr",
     "output_type": "stream",
     "text": [
      "\n"
     ]
    },
    {
     "name": "stdout",
     "output_type": "stream",
     "text": [
      "[MoviePy] Done.\n"
     ]
    },
    {
     "name": "stdout",
     "output_type": "stream",
     "text": [
      "[MoviePy] >>>> Video ready: test_with_lines.mp4 \n\n"
     ]
    }
   ],
   "source": [
    "%matplotlib inline\n",
    "from moviepy.editor import VideoFileClip\n",
    "import numpy as np\n",
    "import cv2\n",
    "\n",
    "class LineInfo:\n",
    "    def __init__(self, slope, center_x, length_sqr, is_valid):\n",
    "        self.slope = slope\n",
    "        self.center_x = center_x\n",
    "        self.length_sqr = length_sqr\n",
    "        self.is_valid = is_valid\n",
    "\n",
    "def filterLines(lines):\n",
    "    lineInfo = []\n",
    "\n",
    "    # Calculate some additional information for the lines\n",
    "    for line in lines:\n",
    "        for x1, y1, x2, y2 in line:\n",
    "            deltaY = y2 - y1\n",
    "            deltaX = x2 - x1\n",
    "            slope = deltaY / deltaX\n",
    "            centerX = (x1 + x2) / 2\n",
    "            lengthSqr = deltaX * deltaX + deltaY * deltaY\n",
    "            lineInfo.append(LineInfo(slope, centerX, lengthSqr, True))\n",
    "\n",
    "    slopeThreshold = 0.1\n",
    "    centerXThreshold = 10\n",
    "    validCount = len(lineInfo)\n",
    "\n",
    "    # Filter the lines until only two remain\n",
    "    while validCount > 2:\n",
    "        similar_lines_found = False\n",
    "        for line in lineInfo:\n",
    "            if not line.is_valid:\n",
    "                continue\n",
    "            for line_other in lineInfo:\n",
    "                if line == line_other or not line_other.is_valid:\n",
    "                    continue\n",
    "\n",
    "                # Compare slope and delta of center_x to determine if line and line_other are similar\n",
    "                slopeCriterion = line.slope - line_other.slope < slopeThreshold\n",
    "                centerXCriterion = abs(line.center_x - line_other.center_x) < centerXThreshold\n",
    "\n",
    "                if slopeCriterion and centerXCriterion:\n",
    "                    validCount -= 1\n",
    "                    similar_lines_found = True\n",
    "                    # Mark the shorter of the two similar lines as invalid\n",
    "                    if line.length_sqr < line_other.length_sqr:\n",
    "                        line.is_valid = False\n",
    "                        # The current reference line is invalid, so break and choose a new one\n",
    "                        break\n",
    "                    else:\n",
    "                        line_other.is_valid = False\n",
    "\n",
    "        # Increase the thresholds as long as there are more than two lines\n",
    "        if not similar_lines_found:\n",
    "            slopeThreshold *= 2\n",
    "            centerXThreshold *= 2\n",
    "\n",
    "    filteredLines = []\n",
    "    for idx, line in enumerate(lineInfo):\n",
    "        if line.is_valid:\n",
    "            filteredLines.append(lines[idx])\n",
    "\n",
    "    return filteredLines\n",
    "\n",
    "\n",
    "def filterByColor(img):\n",
    "    # Filtering by yellow\n",
    "    red_min = 200\n",
    "    red_max = 255\n",
    "    green_min = 180\n",
    "    green_max = 255\n",
    "    blue_min = 20\n",
    "    blue_max = 120\n",
    "\n",
    "    thresholds = (img[:, :, 0] < red_min) | (img[:, :, 1] < green_min) | (img[:, :, 2] < blue_min) | \\\n",
    "                 (img[:, :, 0] > red_max) | (img[:, :, 1] > green_max) | (img[:, :, 2] > blue_max)\n",
    "\n",
    "    # Filtering by white\n",
    "    red_min = 200\n",
    "    green_min = 200\n",
    "    blue_min = 200\n",
    "    thresholds2 = (img[:, :, 0] < red_min) | (img[:, :, 1] < green_min) | (img[:, :, 2] < blue_min)\n",
    "\n",
    "    filtered_img = np.copy(img)\n",
    "    filtered_img[thresholds & thresholds2] = [0, 0, 0]\n",
    "    return filtered_img\n",
    "\n",
    "\n",
    "def convertToGrayScaleAndBlur(img):\n",
    "    img = cv2.cvtColor(img, cv2.COLOR_RGB2GRAY)\n",
    "    kernel_size = 5\n",
    "    gray_blurred_img = cv2.GaussianBlur(img, (kernel_size, kernel_size), 0)\n",
    "    return gray_blurred_img\n",
    "\n",
    "\n",
    "def maskImage(img):\n",
    "    mask = np.zeros_like(img)\n",
    "    ignore_mask_color = 255\n",
    "    width = img.shape[1]\n",
    "    height = img.shape[0]\n",
    "    vertices = np.array([[(150, height - 60), (width / 2 - 100, 450), (width / 2 + 100, 450), (width - 150, height - 60)]], dtype=np.int32)\n",
    "    cv2.fillPoly(mask, vertices, ignore_mask_color)\n",
    "    masked_img = cv2.bitwise_and(img, mask)\n",
    "    return masked_img\n",
    "\n",
    "\n",
    "def detectEdges(img):\n",
    "    edges_img = cv2.Canny(img, 50, 150)\n",
    "    return edges_img\n",
    "\n",
    "\n",
    "def detectLines(img, edges_img):\n",
    "    rho = 2\n",
    "    theta = np.pi / 180\n",
    "    threshold = 15\n",
    "    min_line_length = 30\n",
    "    max_line_gap = 100\n",
    "\n",
    "    lines = cv2.HoughLinesP(edges_img, rho, theta, threshold, np.array([]), min_line_length, max_line_gap)\n",
    "    lines = filterLines(lines)\n",
    "\n",
    "    line_image = np.zeros_like(img)\n",
    "    for line in lines:\n",
    "        for x1, y1, x2, y2 in line:\n",
    "            cv2.line(line_image, (x1, y1), (x2, y2), (255, 0, 0), 10)\n",
    "\n",
    "    return line_image\n",
    "\n",
    "\n",
    "def drawLinesToImage(img, line_image):\n",
    "    fused_img = cv2.addWeighted(img, 0.8, line_image, 1, 0)\n",
    "    return fused_img\n",
    "\n",
    "\n",
    "def processImage(img):\n",
    "    filtered_img = filterByColor(img)\n",
    "    gray_blurred_img = convertToGrayScaleAndBlur(filtered_img)\n",
    "    masked_img = maskImage(gray_blurred_img)\n",
    "    edges_img = detectEdges(masked_img)\n",
    "    line_image = detectLines(img, edges_img)\n",
    "    fused_img = drawLinesToImage(img, line_image)\n",
    "    return fused_img\n",
    "\n",
    "\n",
    "clip = VideoFileClip('test.mp4')\n",
    "modifiedClip = clip.fl_image(processImage)\n",
    "modifiedClip.write_videofile('test_with_lines.mp4', audio=False)"
   ]
  },
  {
   "cell_type": "code",
   "execution_count": 16,
   "metadata": {},
   "outputs": [],
   "source": []
  },
  {
   "cell_type": "code",
   "execution_count": null,
   "metadata": {},
   "outputs": [],
   "source": []
  }
 ],
 "metadata": {
  "kernelspec": {
   "display_name": "Python 2",
   "language": "python",
   "name": "python2"
  },
  "language_info": {
   "codemirror_mode": {
    "name": "ipython",
    "version": 2
   },
   "file_extension": ".py",
   "mimetype": "text/x-python",
   "name": "python",
   "nbconvert_exporter": "python",
   "pygments_lexer": "ipython2",
   "version": "2.7.6"
  }
 },
 "nbformat": 4,
 "nbformat_minor": 0
}
